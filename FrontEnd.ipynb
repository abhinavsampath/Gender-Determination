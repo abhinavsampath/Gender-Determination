{
 "cells": [
  {
   "cell_type": "code",
   "execution_count": 9,
   "metadata": {},
   "outputs": [
    {
     "name": "stdout",
     "output_type": "stream",
     "text": [
      "male\n"
     ]
    }
   ],
   "source": [
    "import numpy as np\n",
    "from keras.preprocessing import image\n",
    "\n",
    "from tkinter import *\n",
    "from PIL import ImageTk, Image\n",
    "from tkinter import filedialog\n",
    "import os\n",
    "from keras.models import load_model\n",
    "\n",
    "classifier = load_model('genderclassification1.h5')\n",
    "classifier.compile(optimizer = 'adam', loss = 'binary_crossentropy', metrics = ['accuracy'])\n",
    "top = Tk()\n",
    "top.geometry(\"550x450+400+150\")\n",
    "top.resizable(width=True, height=True)\n",
    "top.configure(background=\"#fffdd0\")\n",
    "\n",
    "def openfn():\n",
    "    filename = filedialog.askopenfilename(title='open')\n",
    "    return filename\n",
    "def open_img():\n",
    "    x = openfn()\n",
    "    test_image = image.load_img(x, target_size = (64, 64))\n",
    "    test_image = image.img_to_array(test_image)\n",
    "    test_image = np.expand_dims(test_image, axis = 0)\n",
    "    result = classifier.predict_classes(test_image)\n",
    "    index=['female','male']\n",
    "    label = Label(top, text=\"Result: \"+str(index[result[0][0]]))\n",
    "    label.pack()\n",
    "    result=str(index[result[0][0]])\n",
    "    print(result)\n",
    "    img = Image.open(x)\n",
    "    img = img.resize((250, 250), Image.ANTIALIAS)\n",
    "    img = ImageTk.PhotoImage(img)\n",
    "    panel = Label(top, image=img)\n",
    "    panel.image = img\n",
    "    panel.pack()\n",
    "\n",
    "top.title('THE FRONTLINE(Gender Detection)')\n",
    "Label(top,text=\"Uplaod your Image:\",font=\"arial\",bg=\"#fffdd0\").pack()\n",
    "btn = Button(top, text='UPLOAD Image', relief=RAISED,cursor=\"plus\", command=open_img).pack()\n",
    "\n",
    "\n",
    "top.mainloop()"
   ]
  },
  {
   "cell_type": "code",
   "execution_count": null,
   "metadata": {},
   "outputs": [],
   "source": []
  }
 ],
 "metadata": {
  "kernelspec": {
   "display_name": "Python 3",
   "language": "python",
   "name": "python3"
  },
  "language_info": {
   "codemirror_mode": {
    "name": "ipython",
    "version": 3
   },
   "file_extension": ".py",
   "mimetype": "text/x-python",
   "name": "python",
   "nbconvert_exporter": "python",
   "pygments_lexer": "ipython3",
   "version": "3.7.3"
  }
 },
 "nbformat": 4,
 "nbformat_minor": 2
}
