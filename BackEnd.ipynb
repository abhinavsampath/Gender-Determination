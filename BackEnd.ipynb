{
 "cells": [
  {
   "cell_type": "markdown",
   "metadata": {},
   "source": [
    "# 1.import the keras libraries"
   ]
  },
  {
   "cell_type": "code",
   "execution_count": 1,
   "metadata": {},
   "outputs": [
    {
     "name": "stderr",
     "output_type": "stream",
     "text": [
      "Using TensorFlow backend.\n"
     ]
    }
   ],
   "source": [
    "#import libraries\n",
    "from keras.models import Sequential\n",
    "from keras.layers import Dense\n",
    "from keras.layers import Conv2D"
   ]
  },
  {
   "cell_type": "code",
   "execution_count": 2,
   "metadata": {},
   "outputs": [],
   "source": [
    "from keras.layers import MaxPooling2D"
   ]
  },
  {
   "cell_type": "code",
   "execution_count": 3,
   "metadata": {},
   "outputs": [],
   "source": [
    "from keras.layers import Flatten"
   ]
  },
  {
   "cell_type": "markdown",
   "metadata": {},
   "source": [
    "# 2. Initialize cnn model "
   ]
  },
  {
   "cell_type": "code",
   "execution_count": 4,
   "metadata": {},
   "outputs": [],
   "source": [
    "model = Sequential()"
   ]
  },
  {
   "cell_type": "markdown",
   "metadata": {},
   "source": [
    "# 3. Add conv layer"
   ]
  },
  {
   "cell_type": "code",
   "execution_count": 5,
   "metadata": {},
   "outputs": [
    {
     "name": "stderr",
     "output_type": "stream",
     "text": [
      "E:\\applications\\python\\lib\\site-packages\\ipykernel_launcher.py:1: UserWarning: Update your `Conv2D` call to the Keras 2 API: `Conv2D(32, (3, 3), input_shape=(64, 64, 3..., activation=\"relu\")`\n",
      "  \"\"\"Entry point for launching an IPython kernel.\n"
     ]
    },
    {
     "name": "stdout",
     "output_type": "stream",
     "text": [
      "WARNING:tensorflow:From E:\\applications\\python\\lib\\site-packages\\tensorflow\\python\\framework\\op_def_library.py:263: colocate_with (from tensorflow.python.framework.ops) is deprecated and will be removed in a future version.\n",
      "Instructions for updating:\n",
      "Colocations handled automatically by placer.\n"
     ]
    }
   ],
   "source": [
    "model.add(Conv2D(32,3,3,input_shape=(64,64,3),activation='relu'))\n",
    "#32 indicates no. of feature detectors\n",
    "#3,3 are size of feture detector 3*3 matrix\n",
    "# size of image we are converting image to 64*64\n",
    "#3 indicates channel it may be 1 or 3. 1 for gray scale(black and white) image,3 for color image\n",
    "# activation function will be used for avoiding negative pixels\n",
    "\n",
    "\n"
   ]
  },
  {
   "cell_type": "markdown",
   "metadata": {},
   "source": [
    "# 4. add maxpooling layer"
   ]
  },
  {
   "cell_type": "code",
   "execution_count": 6,
   "metadata": {},
   "outputs": [],
   "source": [
    "model.add(MaxPooling2D(pool_size=(2,2)))\n",
    "#pool size is our wish we can take 2*2 or any matrix"
   ]
  },
  {
   "cell_type": "markdown",
   "metadata": {},
   "source": [
    "# 5. add flatten layer"
   ]
  },
  {
   "cell_type": "code",
   "execution_count": 7,
   "metadata": {},
   "outputs": [],
   "source": [
    "model.add(Flatten())\n",
    "#flatten layer will be input to our ann model"
   ]
  },
  {
   "cell_type": "markdown",
   "metadata": {},
   "source": [
    "# 6. adding hidden layer using dense"
   ]
  },
  {
   "cell_type": "code",
   "execution_count": 8,
   "metadata": {},
   "outputs": [
    {
     "name": "stderr",
     "output_type": "stream",
     "text": [
      "E:\\applications\\python\\lib\\site-packages\\ipykernel_launcher.py:1: UserWarning: Update your `Dense` call to the Keras 2 API: `Dense(activation=\"relu\", units=128, kernel_initializer=\"random_uniform\")`\n",
      "  \"\"\"Entry point for launching an IPython kernel.\n"
     ]
    }
   ],
   "source": [
    "model.add(Dense(output_dim=128,activation='relu',init='random_uniform'))"
   ]
  },
  {
   "cell_type": "markdown",
   "metadata": {},
   "source": [
    "# 7.adding output layer"
   ]
  },
  {
   "cell_type": "code",
   "execution_count": 9,
   "metadata": {},
   "outputs": [
    {
     "name": "stderr",
     "output_type": "stream",
     "text": [
      "E:\\applications\\python\\lib\\site-packages\\ipykernel_launcher.py:1: UserWarning: Update your `Dense` call to the Keras 2 API: `Dense(activation=\"sigmoid\", units=1, kernel_initializer=\"random_uniform\")`\n",
      "  \"\"\"Entry point for launching an IPython kernel.\n"
     ]
    }
   ],
   "source": [
    "model.add(Dense(output_dim=1,activation='sigmoid',init='random_uniform'))"
   ]
  },
  {
   "cell_type": "markdown",
   "metadata": {},
   "source": [
    "# 8. compile the model"
   ]
  },
  {
   "cell_type": "code",
   "execution_count": 10,
   "metadata": {},
   "outputs": [],
   "source": [
    "model.compile(optimizer='adam',metrics=['accuracy'],loss='binary_crossentropy')\n"
   ]
  },
  {
   "cell_type": "markdown",
   "metadata": {},
   "source": [
    "# 9. Import dataset  & preprocess the images"
   ]
  },
  {
   "cell_type": "code",
   "execution_count": 11,
   "metadata": {},
   "outputs": [],
   "source": [
    "from keras.preprocessing.image import ImageDataGenerator"
   ]
  },
  {
   "cell_type": "code",
   "execution_count": 12,
   "metadata": {},
   "outputs": [],
   "source": [
    "train_datagen = ImageDataGenerator(rescale=1./255,shear_range=0.2,zoom_range=0.2,horizontal_flip=True)\n",
    "test_datagen = ImageDataGenerator(rescale=1./255)\n",
    "# to avoid overfitting we are possing all values"
   ]
  },
  {
   "cell_type": "code",
   "execution_count": 13,
   "metadata": {},
   "outputs": [
    {
     "name": "stdout",
     "output_type": "stream",
     "text": [
      "Found 10137 images belonging to 2 classes.\n",
      "Found 10719 images belonging to 2 classes.\n"
     ]
    }
   ],
   "source": [
    "x_train = train_datagen.flow_from_directory(r'C:\\Users\\abhin\\Desktop\\HACKERTHON\\dataset\\gender detection\\Train',target_size=(64,64),batch_size=32,class_mode='binary')\n",
    "x_test = train_datagen.flow_from_directory(r'C:\\Users\\abhin\\Desktop\\HACKERTHON\\dataset\\gender detection\\test',target_size=(64,64),batch_size=32,class_mode='binary')\n",
    "# retrieving images from folders and split into 2 variables train and test"
   ]
  },
  {
   "cell_type": "code",
   "execution_count": 14,
   "metadata": {},
   "outputs": [
    {
     "name": "stdout",
     "output_type": "stream",
     "text": [
      "{'Female': 0, 'Male': 1}\n"
     ]
    }
   ],
   "source": [
    "print(x_train.class_indices)"
   ]
  },
  {
   "cell_type": "code",
   "execution_count": 15,
   "metadata": {},
   "outputs": [
    {
     "name": "stdout",
     "output_type": "stream",
     "text": [
      "WARNING:tensorflow:From E:\\applications\\python\\lib\\site-packages\\tensorflow\\python\\ops\\math_ops.py:3066: to_int32 (from tensorflow.python.ops.math_ops) is deprecated and will be removed in a future version.\n",
      "Instructions for updating:\n",
      "Use tf.cast instead.\n"
     ]
    },
    {
     "name": "stderr",
     "output_type": "stream",
     "text": [
      "E:\\applications\\python\\lib\\site-packages\\ipykernel_launcher.py:1: UserWarning: The semantics of the Keras 2 argument `steps_per_epoch` is not the same as the Keras 1 argument `samples_per_epoch`. `steps_per_epoch` is the number of batches to draw from the generator at each epoch. Basically steps_per_epoch = samples_per_epoch/batch_size. Similarly `nb_val_samples`->`validation_steps` and `val_samples`->`steps` arguments have changed. Update your method calls accordingly.\n",
      "  \"\"\"Entry point for launching an IPython kernel.\n",
      "E:\\applications\\python\\lib\\site-packages\\ipykernel_launcher.py:1: UserWarning: Update your `fit_generator` call to the Keras 2 API: `fit_generator(<keras_pre..., epochs=25, validation_data=<keras_pre..., steps_per_epoch=312, validation_steps=6000)`\n",
      "  \"\"\"Entry point for launching an IPython kernel.\n"
     ]
    },
    {
     "name": "stdout",
     "output_type": "stream",
     "text": [
      "Epoch 1/25\n",
      "312/312 [==============================] - 5305s 17s/step - loss: 0.6631 - acc: 0.5946 - val_loss: 0.6394 - val_acc: 0.6351\n",
      "Epoch 2/25\n",
      "312/312 [==============================] - 5135s 16s/step - loss: 0.6158 - acc: 0.6578 - val_loss: 0.5927 - val_acc: 0.6799\n",
      "Epoch 3/25\n",
      "312/312 [==============================] - 5111s 16s/step - loss: 0.5942 - acc: 0.6799 - val_loss: 0.5735 - val_acc: 0.6937\n",
      "Epoch 4/25\n",
      "312/312 [==============================] - 5194s 17s/step - loss: 0.5745 - acc: 0.6877 - val_loss: 0.5596 - val_acc: 0.7007\n",
      "Epoch 5/25\n",
      "312/312 [==============================] - 5214s 17s/step - loss: 0.5520 - acc: 0.7091 - val_loss: 0.5606 - val_acc: 0.7069\n",
      "Epoch 6/25\n",
      "312/312 [==============================] - 5231s 17s/step - loss: 0.5466 - acc: 0.7073 - val_loss: 0.5355 - val_acc: 0.7241\n",
      "Epoch 7/25\n",
      "312/312 [==============================] - 5294s 17s/step - loss: 0.5271 - acc: 0.7222 - val_loss: 0.5834 - val_acc: 0.6919\n",
      "Epoch 8/25\n",
      "312/312 [==============================] - 5035s 16s/step - loss: 0.5195 - acc: 0.7329 - val_loss: 0.5703 - val_acc: 0.7011\n",
      "Epoch 9/25\n",
      "312/312 [==============================] - 5058s 16s/step - loss: 0.5040 - acc: 0.7427 - val_loss: 0.5425 - val_acc: 0.7160\n",
      "Epoch 10/25\n",
      "312/312 [==============================] - 5101s 16s/step - loss: 0.4937 - acc: 0.7486 - val_loss: 0.5419 - val_acc: 0.7199\n",
      "Epoch 11/25\n",
      "312/312 [==============================] - 5160s 17s/step - loss: 0.4788 - acc: 0.7591 - val_loss: 0.5378 - val_acc: 0.7221\n",
      "Epoch 12/25\n",
      "312/312 [==============================] - 5258s 17s/step - loss: 0.4803 - acc: 0.7592 - val_loss: 0.5367 - val_acc: 0.7289\n",
      "Epoch 13/25\n",
      "312/312 [==============================] - 5083s 16s/step - loss: 0.4664 - acc: 0.7698 - val_loss: 0.5769 - val_acc: 0.7031\n",
      "Epoch 14/25\n",
      "312/312 [==============================] - 5049s 16s/step - loss: 0.4601 - acc: 0.7708 - val_loss: 0.5445 - val_acc: 0.7227\n",
      "Epoch 15/25\n",
      "312/312 [==============================] - 5066s 16s/step - loss: 0.4477 - acc: 0.7784 - val_loss: 0.5653 - val_acc: 0.7148\n",
      "Epoch 16/25\n",
      "312/312 [==============================] - 5080s 16s/step - loss: 0.4358 - acc: 0.7888 - val_loss: 0.5802 - val_acc: 0.7150\n",
      "Epoch 17/25\n",
      "312/312 [==============================] - 5205s 17s/step - loss: 0.4332 - acc: 0.7952 - val_loss: 0.5602 - val_acc: 0.7211\n",
      "Epoch 18/25\n",
      "312/312 [==============================] - 5298s 17s/step - loss: 0.4028 - acc: 0.8086 - val_loss: 0.5524 - val_acc: 0.7343\n",
      "Epoch 19/25\n",
      "312/312 [==============================] - 5119s 16s/step - loss: 0.4101 - acc: 0.8033 - val_loss: 0.5726 - val_acc: 0.7240\n",
      "Epoch 20/25\n",
      "312/312 [==============================] - 5145s 16s/step - loss: 0.3992 - acc: 0.8169 - val_loss: 0.5610 - val_acc: 0.7333\n",
      "Epoch 21/25\n",
      "312/312 [==============================] - 5172s 17s/step - loss: 0.3918 - acc: 0.8091 - val_loss: 0.5815 - val_acc: 0.7277\n",
      "Epoch 22/25\n",
      "312/312 [==============================] - 5237s 17s/step - loss: 0.3775 - acc: 0.8274 - val_loss: 0.6028 - val_acc: 0.7190\n",
      "Epoch 23/25\n",
      "312/312 [==============================] - 5243s 17s/step - loss: 0.3681 - acc: 0.8271 - val_loss: 0.6121 - val_acc: 0.7180\n",
      "Epoch 24/25\n",
      "312/312 [==============================] - 5363s 17s/step - loss: 0.3617 - acc: 0.8339 - val_loss: 0.6557 - val_acc: 0.7116\n",
      "Epoch 25/25\n",
      "312/312 [==============================] - 5231s 17s/step - loss: 0.3494 - acc: 0.8392 - val_loss: 0.6216 - val_acc: 0.7176\n"
     ]
    },
    {
     "data": {
      "text/plain": [
       "<keras.callbacks.History at 0x24a2b5eccc0>"
      ]
     },
     "execution_count": 15,
     "metadata": {},
     "output_type": "execute_result"
    }
   ],
   "source": [
    "model.fit_generator(x_train,samples_per_epoch=10000,epochs = 25,validation_data=x_test,nb_val_samples=6000)\n",
    "#here samples for epoch = (8000/32)(totl samples/batch size)----formula"
   ]
  },
  {
   "cell_type": "code",
   "execution_count": 18,
   "metadata": {},
   "outputs": [],
   "source": [
    "from keras.models import load_model"
   ]
  },
  {
   "cell_type": "code",
   "execution_count": 19,
   "metadata": {},
   "outputs": [],
   "source": [
    "model.save(\"genderclassification1.h5\")"
   ]
  },
  {
   "cell_type": "markdown",
   "metadata": {},
   "source": []
  },
  {
   "cell_type": "code",
   "execution_count": null,
   "metadata": {},
   "outputs": [],
   "source": []
  }
 ],
 "metadata": {
  "kernelspec": {
   "display_name": "Python 3",
   "language": "python",
   "name": "python3"
  },
  "language_info": {
   "codemirror_mode": {
    "name": "ipython",
    "version": 3
   },
   "file_extension": ".py",
   "mimetype": "text/x-python",
   "name": "python",
   "nbconvert_exporter": "python",
   "pygments_lexer": "ipython3",
   "version": "3.7.3"
  }
 },
 "nbformat": 4,
 "nbformat_minor": 2
}
